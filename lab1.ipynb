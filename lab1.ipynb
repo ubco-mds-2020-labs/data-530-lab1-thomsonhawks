{
 "cells": [
  {
   "cell_type": "markdown",
   "metadata": {},
   "source": [
    "# DATA 530 - Computing Platforms for Data Science\n",
    "# Lab 1: Data Science stack"
   ]
  },
  {
   "cell_type": "markdown",
   "metadata": {},
   "source": [
    "****\n",
    "**Name**: FirstName LastName\n",
    "\n",
    "**Date**: September 8, 2020\n",
    "\n",
    "**How many hours did you spend on this lab?** [Replace this text with a float] hours.\n",
    "\n",
    "**Comments**: What did you learn in this lab? This answer is not graded and is for course improvement purposes.\n",
    "****"
   ]
  },
  {
   "cell_type": "markdown",
   "metadata": {},
   "source": [
    "## Objectives\n",
    "\n",
    "1. Install the Data Science Stack\n",
    "1. Become familiar with the tools of the trade\n",
    "1. Learn how to submit labs in MDS using GitHub"
   ]
  },
  {
   "cell_type": "markdown",
   "metadata": {},
   "source": [
    "## Task #1 - Install the Data Science Stack (20 marks)\n",
    "\n"
   ]
  },
  {
   "cell_type": "markdown",
   "metadata": {},
   "source": [
    "You'll find the [installation instructions here](https://firas.moosvi.com/courses/data530/class/install_ds_stack.html).\n",
    "\n",
    "Once you're finished installing everything, here is what you need to submit:\n",
    "\n",
    "1. Create a new file in this lab1 folder and open it in VS Code:\n",
    "\n",
    "    `code setup_script.sh`\n",
    "    \n",
    "2. Copy the contents of [this script](https://raw.githubusercontent.com/UBC-MDS/UBC-MDS.github.io/master/resources_pages/check-setup-mds.sh) and paste it into `setup_script.sh`\n",
    "\n",
    "3. Save the script (make sure it's within this repository)\n",
    "\n",
    "4. Run the following two commands in the cells beow. This is the output we will mark."
   ]
  },
  {
   "cell_type": "code",
   "execution_count": 5,
   "metadata": {},
   "outputs": [],
   "source": [
    "### If you're on macOS and using zsh, run the following two commands so your bash_profile is correctly read:\n",
    "\n",
    "# !cp ~/.zshrc ~/.bashrc\n",
    "# !cp ~/.zprofile ~/.bash_profile"
   ]
  },
  {
   "cell_type": "code",
   "execution_count": 1,
   "metadata": {},
   "outputs": [
    {
     "name": "stdout",
     "output_type": "stream",
     "text": [
      "bash: setup_script.sh: No such file or directory\n"
     ]
    }
   ],
   "source": [
    "\n",
    "\n",
    "!bash setup_script.sh"
   ]
  },
  {
   "cell_type": "code",
   "execution_count": 4,
   "metadata": {},
   "outputs": [
    {
     "name": "stdout",
     "output_type": "stream",
     "text": [
      "/Users/firasm/.pyenv/versions/3.8.3/bin:/usr/local/Cellar/pyenv/1.2.20/libexec:/Users/firasm/.pyenv/shims:/Users/firasm/gld/git-latexdiff:/usr/local/opt/tcl-tk/bin:/usr/local/sbin:/usr/local/bin:/usr/local/share/python:/usr/local/mysql/bin:/usr/local/heroku/bin:/Users/firasm/bin:/usr/local/bin:/usr/local/bin:/usr/bin:/bin:/usr/sbin:/sbin:/Library/TeX/texbin:/opt/X11/bin:/Library/Apple/usr/bin\n"
     ]
    }
   ],
   "source": [
    "# This command prints your $PATH variable and lets us verify that your $PATH variable is reasonable and set correctly\n",
    "\n",
    "!echo $PATH"
   ]
  },
  {
   "cell_type": "code",
   "execution_count": 7,
   "metadata": {},
   "outputs": [],
   "source": [
    "### If you're on macOS and using zsh, you can now delete the files created above\n",
    "\n",
    "# !rm ~/.bashrc\n",
    "# !rm ~/.bash_profile"
   ]
  },
  {
   "cell_type": "markdown",
   "metadata": {},
   "source": [
    "## Task #2 - Install Microsoft Office 365 (5 marks)"
   ]
  },
  {
   "cell_type": "markdown",
   "metadata": {},
   "source": [
    "UBC students have free access to a Microsoft Office 365 annual subscription, which is renewed for students enrolled in at least one course. Office 365 includes Word, Excel, PowerPoint, Outlook, and OneNote, and is available on a variety of platforms, including Windows, Mac, and Linux/Android.\n",
    "\n",
    "To get your free Office 365 license and download the installer files, visit [UBC IT] (https://it.ubc.ca/services/desktop-print-services/software-licensing/office-365-students) and click ```Download Office 365```. Note that you will need your CWL login credentials in order to download the software and activate your license.\n",
    "\n",
    "**Take a screenshot of the successful opening of Microsoft Excel to prove that you correctly installed it.**"
   ]
  },
  {
   "cell_type": "markdown",
   "metadata": {},
   "source": [
    "### Solution"
   ]
  },
  {
   "cell_type": "markdown",
   "metadata": {},
   "source": [
    "### Your solution here\n",
    "\n",
    "![](path/to/img.png)\n",
    "\n"
   ]
  },
  {
   "cell_type": "markdown",
   "metadata": {},
   "source": [
    "## Task #3 - Submit this lab using GitHub (5 marks)"
   ]
  },
  {
   "cell_type": "markdown",
   "metadata": {},
   "source": [
    "To submit the assignment using Git, follow these steps:\n",
    "\n",
    "1. In GitHub, go to your automatically created lab repository, then click the ```Clone``` button. Copy the https link in the dropdown box.\n",
    "\n",
    "![](clone.png)\n",
    "\n",
    "2. Open Terminal (Mac/Linux) or GitBash (Windows), and navigate to where you want to create your local copy of the repository.\n",
    "3. Run ```git clone <Your https repo link>```. For example, I enter ```git clone https://github.com/ubco-mds-2020/<REPO_NAME>-firasm.git```. You will be prompted to enter your GitHub username and password.\n",
    "4. Navigate into the new folder that has been created. Make your changes, adding or editing files to this new folder.\n",
    "\n",
    "**Note you may have already completed the following 2 steps when you installed the DS Stack. You do not need to do them again**\n",
    "\n",
    "5. Run ```git config --global user.email \"<Your Email you used for GitHub>\"```\n",
    "6. Run ```git config --global user.email \"<Your GitHub Username>\"```\n",
    "\n",
    "**Continue...**\n",
    "\n",
    "7. Run ```git add -A``` to stage all new edits and files in the repository for committing.\n",
    "8. Run ```git commit -m \"<Your commit message>\"``` to make a local commit of your changes. Your commit message should be a short description of what changes were made. You just made your first commit!\n",
    "9. Run ```git push``` to push your local commit to the GitHub server. You may be asked for your GitHub username and password again. You should now see the changes you made reflected in GitHub's web interface.\n",
    "10. You should repeat steps 7, 8, and 9 everytime you want to commit your changes up to GitHub.com. Otherwise they will only exist locally. I suggest having a minimum of 4 commits in this lab to get some practice on how this works."
   ]
  },
  {
   "cell_type": "markdown",
   "metadata": {},
   "source": [
    "## Appendix\n",
    "\n",
    "### Useful Terminal Commands\n",
    "\n",
    "You can use the terminal to navigate through your computer’s file system and run various applications. Windows users should use Git Bash (search for it in Start Menu), while Mac/Linux Users should open their terminals. Here are some useful commands that you should be familiar with (try them out!):\n",
    "\n",
    "- ```pwd```  - shows the path of your current directory (i.e. tells you where you are)\n",
    "on Windows, the terminal prompt contains the path of your current directory\n",
    "- ```ls``` shows what is in the current directory\n",
    "- ```cd <directory or path> ``` - change directory to the specified directory (**NOTE**: the use of the greater than and less than signs are meant to indicate that you need to type in whatever directory or path you want to go to. You should not literally type in these symbols into the terminal)\n",
    "\t-\t```cd ..``` goes up one level, to the parent folder\n",
    "\t- *extra tip*: TAB does autocomplete for file names (start typing the name of a file/folder and press TAB before you finish typing)\n",
    " \t- You can use the symbol ```~```as shorthand for your home directory. So for example ```cd ~/Desktop``` will probably get you to your desktop if you're on Mac/Linux. **Note**: This references an *absolute* path rather than a *relative* path -- it points directly to your home directory regardless of what directory you are currently in, rather than some place relative to the current directory you are in. The rest of the time when you use cd to navigate around you are usually specifying relative paths (path relative to where you are right now).\n",
    "\n",
    "1.\tChose a folder where you want to save your work for this assignment.\n",
    "2.\tOpen Atom, and write the following code:\n",
    "```print test successful!``` and then go to *File -> Save As* and save the file with the extensiion ```.py``` in the directory you chose. For example, I saved the file as *test.py*.\n",
    "\n",
    "3.\tNow, in terminal, navigate to that folder using the commands you learned above.\n",
    "4.\tOnce you are there, type:\n",
    "```python <program name>.py ```. In this case, we type ```python test.py```. You should now see ```test successful!``` in your terminal.\n",
    "\n",
    "You can do a lot more with a terminal. See software carpentry's [resources](http://swcarpentry.github.io/shell-novice/) on this.\n",
    "\n",
    "### Documentation\n",
    "\n",
    "The following resources will be very helpful in explaining how to work with the required languages and environments.\n",
    "\n",
    "- [VS Code](https://code.visualstudio.com/docs)\n",
    "- [Python](https://docs.python.org/3/)\n",
    "- [R](http://www.rdocumentation.org/)\n",
    "- [RStudio](https://support.rstudio.com/hc/en-us/categories/200035113-Documentation)\n",
    "- [Useful UNIX commands](http://mally.stanford.edu/~sr/computing/basic-unix.html)\n",
    "\n",
    "### Troubleshooting\n",
    "\n",
    "A lot of troubleshooting questions are answered on [Stack Overflow](http://stackoverflow.com/). We encourage you to use Stack Overflow throughout the program.\n",
    "\n",
    "\n",
    "### Attributions\n",
    "* [Harvard CS109](http://cs109.github.io/2015/)\n",
    "* [UBC STAT 545](http://stat545.com/packages01_system-prep.html#mac-os-system-prep) licensed under the [CC BY-NC 3.0](https://creativecommons.org/licenses/by-nc/3.0/legalcode)."
   ]
  }
 ],
 "metadata": {
  "kernelspec": {
   "display_name": "Python 3",
   "language": "python",
   "name": "python3"
  },
  "language_info": {
   "codemirror_mode": {
    "name": "ipython",
    "version": 3
   },
   "file_extension": ".py",
   "mimetype": "text/x-python",
   "name": "python",
   "nbconvert_exporter": "python",
   "pygments_lexer": "ipython3",
   "version": "3.8.3"
  }
 },
 "nbformat": 4,
 "nbformat_minor": 4
}
